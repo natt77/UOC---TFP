{
 "cells": [
  {
   "cell_type": "code",
   "execution_count": 22,
   "metadata": {
    "collapsed": false
   },
   "outputs": [],
   "source": [
    "#!pip install -U textblob\n",
    "#!python -m textblob.download_corpora\n",
    "#!pip install -U textblob-aptagger\n",
    "#import textblob\n",
    "import pandas\n",
    "from textblob import TextBlob"
   ]
  },
  {
   "cell_type": "code",
   "execution_count": 23,
   "metadata": {
    "collapsed": false,
    "scrolled": true
   },
   "outputs": [],
   "source": [
    "facebook_df = pandas.read_table('/resources/ArchivoAsociaciones20161128ANSII.txt',encoding='ISO-8859-1',sep='\\t')\n",
    "linea_df = pandas.DataFrame(facebook_df, columns=['post_message'])\n",
    "linea_df=linea_df.fillna('')\n"
   ]
  },
  {
   "cell_type": "code",
   "execution_count": 24,
   "metadata": {
    "collapsed": false
   },
   "outputs": [],
   "source": [
    "linea1_df['polarity'] = linea1_df.apply(lambda x: TextBlob(x['post_message']).sentiment.polarity, axis=1)\n",
    "linea1_df['subjectivity'] = linea1_df.apply(lambda x: TextBlob(x['post_message']).sentiment.subjectivity, axis=1)\n"
   ]
  },
  {
   "cell_type": "code",
   "execution_count": 25,
   "metadata": {
    "collapsed": false
   },
   "outputs": [],
   "source": [
    "linea_df.to_csv(\"Sentiment_output.csv\", sep=';', na_rep='',header=True, encoding='ISO-8859-1')"
   ]
  }
 ],
 "metadata": {
  "kernelspec": {
   "display_name": "Python 3",
   "language": "python",
   "name": "python3"
  },
  "language_info": {
   "codemirror_mode": {
    "name": "ipython",
    "version": 3
   },
   "file_extension": ".py",
   "mimetype": "text/x-python",
   "name": "python",
   "nbconvert_exporter": "python",
   "pygments_lexer": "ipython3",
   "version": "3.4.3"
  },
  "widgets": {
   "state": {},
   "version": "1.1.2"
  }
 },
 "nbformat": 4,
 "nbformat_minor": 0
}
