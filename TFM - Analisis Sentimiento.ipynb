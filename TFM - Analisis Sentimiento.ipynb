{
 "cells": [
  {
   "cell_type": "code",
   "execution_count": 27,
   "metadata": {
    "collapsed": false
   },
   "outputs": [],
   "source": [
    "#!pip install -U textblob\n",
    "#!python -m textblob.download_corpora\n",
    "#!pip install -U textblob-aptagger\n",
    "#import textblob\n",
    "import pandas\n",
    "from textblob import TextBlob"
   ]
  },
  {
   "cell_type": "code",
   "execution_count": 29,
   "metadata": {
    "collapsed": false,
    "scrolled": true
   },
   "outputs": [],
   "source": [
    "facebook_df = pandas.read_table('/resources/data/ArchivoAsociaciones20161128ANSII.txt',encoding='ISO-8859-1',sep='\\t')\n",
    "linea_df = pandas.DataFrame(facebook_df, columns=['post_message'])\n",
    "linea_df=linea_df.fillna('')\n",
    "linea_df.to_csv(\"/resources/data/Sentiment_output.csv\", sep=';', na_rep='',header=True, encoding='ISO-8859-1')"
   ]
  },
  {
   "cell_type": "code",
   "execution_count": 36,
   "metadata": {
    "collapsed": true
   },
   "outputs": [],
   "source": [
    "#añadimos a mano en el archivo Sentiment_output una nueva columna 'post_message_en' \n",
    "#en la que incluimos la traducción del post_message obtenida a través de google translator. \n",
    "#Renombramos el fichero a Sentimient_output_en antes de cargarlo de nuevo.\n",
    "facebook_en_df = pandas.read_table('/resources/data/Sentiment_output_en.csv',encoding='ISO-8859-1',sep=';')\n",
    "linea_es_df = pandas.DataFrame(facebook_en_df, columns=['post_message'])\n",
    "linea_en_df = pandas.DataFrame(facebook_en_df, columns=['post_message_en'])\n",
    "linea_es_df=linea_es_df.fillna('')\n",
    "linea_en_df=linea_en_df.fillna('')"
   ]
  },
  {
   "cell_type": "code",
   "execution_count": 37,
   "metadata": {
    "collapsed": false
   },
   "outputs": [],
   "source": [
    "linea_en_df['post_message'] = linea_es_df\n",
    "linea_en_df['polarity'] = linea_en_df.apply(lambda x: TextBlob(x['post_message_en']).sentiment.polarity, axis=1)\n",
    "linea_en_df['subjectivity'] = linea_en_df.apply(lambda x: TextBlob(x['post_message_en']).sentiment.subjectivity, axis=1)\n"
   ]
  },
  {
   "cell_type": "code",
   "execution_count": 38,
   "metadata": {
    "collapsed": false
   },
   "outputs": [],
   "source": [
    "linea_en_df.to_csv(\"/resources/data/Sentiment_output_en.csv\", sep=';', na_rep='',header=True, encoding='ISO-8859-1')"
   ]
  }
 ],
 "metadata": {
  "kernelspec": {
   "display_name": "Python 3",
   "language": "python",
   "name": "python3"
  },
  "language_info": {
   "codemirror_mode": {
    "name": "ipython",
    "version": 3
   },
   "file_extension": ".py",
   "mimetype": "text/x-python",
   "name": "python",
   "nbconvert_exporter": "python",
   "pygments_lexer": "ipython3",
   "version": "3.4.3"
  },
  "widgets": {
   "state": {},
   "version": "1.1.2"
  }
 },
 "nbformat": 4,
 "nbformat_minor": 0
}
